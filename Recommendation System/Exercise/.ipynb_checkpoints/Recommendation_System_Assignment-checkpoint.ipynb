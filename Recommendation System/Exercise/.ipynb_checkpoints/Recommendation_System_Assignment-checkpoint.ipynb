{
 "cells": [
  {
   "cell_type": "markdown",
   "metadata": {
    "id": "8ZonY_oYNjt_"
   },
   "source": [
    "<h3><b> Based on this exercise, discuss the the questions in Quizizz with your group"
   ]
  },
  {
   "cell_type": "markdown",
   "metadata": {
    "id": "k5Xr9Dv4NjuF"
   },
   "source": [
    "Steps in a user-based recommendation system:\n",
    "\n",
    "1. Select a user with the books the user has watched\n",
    "2. Based on his rating to books, find the top x neighbours\n",
    "3. Get the read books record of the user for each neighbour.\n",
    "4. Calculate a similarity score using some formula\n",
    "5. Recommend the items with the highest score"
   ]
  },
  {
   "cell_type": "code",
   "execution_count": 111,
   "metadata": {
    "id": "m32700SVNjuL"
   },
   "outputs": [],
   "source": [
    "import pandas as pd\n",
    "from math import sqrt\n",
    "import numpy as np\n"
   ]
  },
  {
   "cell_type": "code",
   "execution_count": 112,
   "metadata": {
    "colab": {
     "base_uri": "https://localhost:8080/"
    },
    "id": "maXzLmxGNjuO",
    "outputId": "c1b2145c-5ecd-4110-f5cc-bbc338c186f2"
   },
   "outputs": [
    {
     "name": "stderr",
     "output_type": "stream",
     "text": [
      "/usr/local/lib/python3.8/dist-packages/IPython/core/interactiveshell.py:3326: DtypeWarning: Columns (3) have mixed types.Specify dtype option on import or set low_memory=False.\n",
      "  exec(code_obj, self.user_global_ns, self.user_ns)\n"
     ]
    },
    {
     "name": "stdout",
     "output_type": "stream",
     "text": [
      "<class 'pandas.core.frame.DataFrame'>\n",
      "RangeIndex: 271360 entries, 0 to 271359\n",
      "Data columns (total 8 columns):\n",
      " #   Column               Non-Null Count   Dtype \n",
      "---  ------               --------------   ----- \n",
      " 0   ISBN                 271360 non-null  object\n",
      " 1   Book-Title           271360 non-null  object\n",
      " 2   Book-Author          271359 non-null  object\n",
      " 3   Year-Of-Publication  271360 non-null  object\n",
      " 4   Publisher            271358 non-null  object\n",
      " 5   Image-URL-S          271360 non-null  object\n",
      " 6   Image-URL-M          271360 non-null  object\n",
      " 7   Image-URL-L          271357 non-null  object\n",
      "dtypes: object(8)\n",
      "memory usage: 16.6+ MB\n",
      "None\n",
      "<class 'pandas.core.frame.DataFrame'>\n",
      "RangeIndex: 1149780 entries, 0 to 1149779\n",
      "Data columns (total 3 columns):\n",
      " #   Column       Non-Null Count    Dtype \n",
      "---  ------       --------------    ----- \n",
      " 0   User-ID      1149780 non-null  int64 \n",
      " 1   ISBN         1149780 non-null  object\n",
      " 2   Book-Rating  1149780 non-null  int64 \n",
      "dtypes: int64(2), object(1)\n",
      "memory usage: 26.3+ MB\n",
      "None\n"
     ]
    }
   ],
   "source": [
    "books_url = 'https://raw.githubusercontent.com/Gitroars/FoDS_LEC/main/Recommendation%20System/Exercise/Books.csv'\n",
    "books_df = pd.read_csv(books_url)\n",
    "ratings_url = 'https://raw.githubusercontent.com/Gitroars/FoDS_LEC/main/Recommendation%20System/Exercise/Ratings.csv'\n",
    "ratings_df = pd.read_csv(ratings_url)\n",
    "print(books_df.info())\n",
    "print(ratings_df.info())\n"
   ]
  },
  {
   "cell_type": "code",
   "execution_count": 113,
   "metadata": {
    "colab": {
     "base_uri": "https://localhost:8080/"
    },
    "id": "gW_QBJHLNjuP",
    "outputId": "187497aa-b6fb-4f6b-80be-ce4b3646f15d"
   },
   "outputs": [
    {
     "name": "stdout",
     "output_type": "stream",
     "text": [
      "                                          Book-Title  Book-Rating\n",
      "0                                Classical Mythology          5.0\n",
      "1                                       Clara Callan          3.0\n",
      "2                               Decision in Normandy          4.0\n",
      "3  Flu: The Story of the Great Influenza Pandemic...          5.0\n",
      "4                             The Mummies of Urumchi          4.5\n"
     ]
    }
   ],
   "source": [
    "userInput = [{'Book-Title':'Classical Mythology', 'Book-Rating':5},\n",
    "             {'Book-Title':'Clara Callan', 'Book-Rating':3},\n",
    "             {'Book-Title':'Decision in Normandy', 'Book-Rating':4},\n",
    "             {'Book-Title':'Flu: The Story of the Great Influenza Pandemic of 1918 and the Search for the Virus That Caused It', 'Book-Rating':5},\n",
    "             {'Book-Title':'The Mummies of Urumchi', 'Book-Rating':4.5}]\n",
    "inputBooks = pd.DataFrame(userInput)\n",
    "print(inputBooks)"
   ]
  },
  {
   "cell_type": "code",
   "execution_count": 114,
   "metadata": {
    "colab": {
     "base_uri": "https://localhost:8080/"
    },
    "id": "SFApFIiDNjuR",
    "outputId": "1caccf93-5590-4e1e-dda7-ced89abd2576"
   },
   "outputs": [
    {
     "name": "stdout",
     "output_type": "stream",
     "text": [
      "         ISBN                                         Book-Title  Book-Rating\n",
      "0  0195153448                                Classical Mythology          5.0\n",
      "1  0801319536                                Classical Mythology          5.0\n",
      "2  0002005018                                       Clara Callan          3.0\n",
      "3  0060973129                               Decision in Normandy          4.0\n",
      "4  0374157065  Flu: The Story of the Great Influenza Pandemic...          5.0\n",
      "5  0393045218                             The Mummies of Urumchi          4.5\n"
     ]
    }
   ],
   "source": [
    "inputId = books_df[books_df['Book-Title'].isin(inputBooks['Book-Title'].tolist())]\n",
    "inputBooks = pd.merge(inputId, inputBooks)\n",
    "inputBooks = inputBooks[['ISBN','Book-Title','Book-Rating']]\n",
    "print(inputBooks)"
   ]
  },
  {
   "cell_type": "markdown",
   "metadata": {
    "id": "r_23sJ1vNjuS"
   },
   "source": [
    "#### Now with the `ISBN` in our input, we can now get the subset of users that have read and reviewed the books in our input. Find the similar user taste."
   ]
  },
  {
   "cell_type": "code",
   "execution_count": 115,
   "metadata": {
    "colab": {
     "base_uri": "https://localhost:8080/"
    },
    "id": "BmGI-DmrNjuS",
    "outputId": "5fca0e32-b7b8-4502-b8d0-e71db2e6881c"
   },
   "outputs": [
    {
     "name": "stdout",
     "output_type": "stream",
     "text": [
      "            User-ID  Book-Rating\n",
      "ISBN                            \n",
      "0002005018       14           14\n",
      "0060973129        3            3\n",
      "0195153448        1            1\n",
      "0374157065       11           11\n",
      "0393045218        1            1\n",
      "0801319536        1            1\n"
     ]
    }
   ],
   "source": [
    "userSubset = ratings_df[ratings_df['ISBN'].isin(inputBooks['ISBN'].tolist())]\n",
    "print(userSubset.groupby('ISBN').count())"
   ]
  },
  {
   "cell_type": "code",
   "execution_count": 116,
   "metadata": {
    "colab": {
     "base_uri": "https://localhost:8080/"
    },
    "id": "-1566eb1NjuU",
    "outputId": "fb05e365-c1db-40b7-c740-7faf25adadba"
   },
   "outputs": [
    {
     "name": "stdout",
     "output_type": "stream",
     "text": [
      "[(8,       User-ID        ISBN  Book-Rating\n",
      "9563        8  0002005018            5\n",
      "9564        8  0060973129            0\n",
      "9565        8  0374157065            0\n",
      "9566        8  0393045218            0), (2,       User-ID        ISBN  Book-Rating\n",
      "9561        2  0195153448            0), (2954,        User-ID        ISBN  Book-Rating\n",
      "16919     2954  0060973129            8), (11400,        User-ID        ISBN  Book-Rating\n",
      "43178    11400  0002005018            0), (11676,        User-ID        ISBN  Book-Rating\n",
      "45340    11676  0002005018            8)]\n"
     ]
    }
   ],
   "source": [
    "#Groupby creates several sub dataframes where they all have the same value in the column specified as the parameter\n",
    "userSubsetGroup = userSubset.groupby(['User-ID'])\n",
    "\n",
    "def take_5_elem(x):\n",
    "    # print (len(x[1]))\n",
    "    return len(x[1])\n",
    "    \n",
    "\n",
    "#Sorting it so users with book most in common with the input will have priority\n",
    "userSubsetGroup = sorted(userSubsetGroup, key=take_5_elem, reverse=True)\n",
    "\n",
    "userSubsetGroup = userSubsetGroup[0:100]\n",
    "print(userSubsetGroup[0:5])\n"
   ]
  },
  {
   "cell_type": "code",
   "execution_count": 117,
   "metadata": {
    "id": "h_KYBeMtNjuV"
   },
   "outputs": [],
   "source": [
    "#Store the Pearson Correlation in a dictionary, where the key is the user Id and the value is the coefficient\n",
    "pearsonCorrelationDict = {}\n",
    "\n",
    "#For every user group in our subset\n",
    "for name, group in userSubsetGroup:\n",
    "\n",
    "    #Let's start by sorting the input and current user group so the values aren't mixed up later on\n",
    "    group = group.sort_values(by='ISBN')\n",
    "    inputBooks = inputBooks.sort_values(by='ISBN')\n",
    "\n",
    "    #Get the N for the formula\n",
    "    nRatings = len(group)\n",
    "\n",
    "    #Get the review scores for the books that they both have in common\n",
    "    temp_df = inputBooks[inputBooks['ISBN'].isin(group['ISBN'].tolist())]\n",
    "\n",
    "    #And then store them in a temporary buffer variable in a list format to facilitate future calculations\n",
    "    tempRatingList = temp_df['Book-Rating'].tolist()\n",
    "   \n",
    "    #Let's also put the current user group reviews in a list format\n",
    "    tempGroupList = group['Book-Rating'].tolist()\n",
    "   \n",
    "    \n",
    "    #Now let's calculate the pearson correlation between two users, so called, x and y manually (check the formula from week 7 slide)\n",
    "    Sxx = sum([i**2 for i in tempRatingList]) - pow(sum(tempRatingList),2)/float(nRatings)\n",
    "    Syy = sum([i**2 for i in tempGroupList]) - pow(sum(tempGroupList),2)/float(nRatings)\n",
    "    Sxy = sum( i*j for i, j in zip(tempRatingList, tempGroupList)) - sum(tempRatingList)*sum(tempGroupList)/float(nRatings)\n",
    "\n",
    "    #If the denominator is different than zero, then divide, else, 0 correlation.\n",
    "    if Sxx != 0 and Syy != 0:\n",
    "        pearsonCorrelationDict[name] = Sxy/sqrt(Sxx*Syy)\n",
    "    else:\n",
    "        pearsonCorrelationDict[name] = 0\n",
    "    \n"
   ]
  },
  {
   "cell_type": "code",
   "execution_count": 118,
   "metadata": {
    "colab": {
     "base_uri": "https://localhost:8080/"
    },
    "id": "Ozp4EqHsNjuX",
    "outputId": "8da01a92-ea8a-4e37-e8d3-302636e30cdc"
   },
   "outputs": [
    {
     "name": "stdout",
     "output_type": "stream",
     "text": [
      "   similarityIndex  User-ID\n",
      "0         -0.87831        8\n",
      "1          0.00000        2\n",
      "2          0.00000     2954\n",
      "3          0.00000    11400\n",
      "4          0.00000    11676\n"
     ]
    }
   ],
   "source": [
    "pearsonDF = pd.DataFrame.from_dict(pearsonCorrelationDict, orient='index')\n",
    "pearsonDF.columns = ['similarityIndex']\n",
    "pearsonDF['User-ID'] = pearsonDF.index\n",
    "pearsonDF.index = range(len(pearsonDF))\n",
    "print(pearsonDF.head())\n"
   ]
  },
  {
   "cell_type": "code",
   "execution_count": 119,
   "metadata": {
    "colab": {
     "base_uri": "https://localhost:8080/"
    },
    "id": "R89syb-KNjuY",
    "outputId": "ee0c3659-1d67-433f-9e5f-a7c902c72046"
   },
   "outputs": [
    {
     "name": "stdout",
     "output_type": "stream",
     "text": [
      "    similarityIndex  User-ID\n",
      "14              0.0   137688\n",
      "1               0.0        2\n",
      "26              0.0   263325\n",
      "25              0.0   219008\n",
      "24              0.0   210926\n"
     ]
    }
   ],
   "source": [
    "topUsers=pearsonDF.sort_values(by='similarityIndex', ascending=False)[0:50]\n",
    "print(topUsers.head())"
   ]
  },
  {
   "cell_type": "code",
   "execution_count": 120,
   "metadata": {
    "colab": {
     "base_uri": "https://localhost:8080/"
    },
    "id": "Y5BLrcz7NjuZ",
    "outputId": "2e64e2a5-527e-41ee-f36e-135d8f8b1504"
   },
   "outputs": [
    {
     "name": "stdout",
     "output_type": "stream",
     "text": [
      "    similarityIndex  User-ID        ISBN  Book-Rating\n",
      "0               0.0   137688  0020264801            0\n",
      "1               0.0   137688  0020442009            0\n",
      "2               0.0   137688  0060084367           10\n",
      "3               0.0   137688  0060169028            9\n",
      "4               0.0   137688  0060241497            6\n",
      "..              ...      ...         ...          ...\n",
      "95              0.0   137688  0394752996            0\n",
      "96              0.0   137688  0395245109            9\n",
      "97              0.0   137688  0399141308            9\n",
      "98              0.0   137688  0399233806            0\n",
      "99              0.0   137688  0425065553            8\n",
      "\n",
      "[100 rows x 4 columns]\n"
     ]
    }
   ],
   "source": [
    "topUsersRating=topUsers.merge(ratings_df, left_on='User-ID', right_on='User-ID', how='inner')\n",
    "print(topUsersRating.head(100))"
   ]
  },
  {
   "cell_type": "code",
   "execution_count": 121,
   "metadata": {
    "colab": {
     "base_uri": "https://localhost:8080/"
    },
    "id": "xHTIZNdwNjuZ",
    "outputId": "758891cd-c396-40b0-ef30-5c4a30d66f36"
   },
   "outputs": [
    {
     "name": "stdout",
     "output_type": "stream",
     "text": [
      "   similarityIndex  User-ID        ISBN  Book-Rating  weightedRating\n",
      "0              0.0   137688  0020264801            0             0.0\n",
      "1              0.0   137688  0020442009            0             0.0\n",
      "2              0.0   137688  0060084367           10             0.0\n",
      "3              0.0   137688  0060169028            9             0.0\n",
      "4              0.0   137688  0060241497            6             0.0\n"
     ]
    }
   ],
   "source": [
    "#Multiplies the similarity by the user’s ratings\n",
    "topUsersRating['weightedRating'] = topUsersRating['similarityIndex']*topUsersRating['Book-Rating']\n",
    "print(topUsersRating.head())"
   ]
  },
  {
   "cell_type": "code",
   "execution_count": 122,
   "metadata": {
    "colab": {
     "base_uri": "https://localhost:8080/"
    },
    "id": "nsQ624GXNjua",
    "outputId": "0f810e77-2f6e-415a-e13f-05b0320ba980"
   },
   "outputs": [
    {
     "name": "stdout",
     "output_type": "stream",
     "text": [
      "               sum_similarityIndex  sum_weightedRating\n",
      "ISBN                                                  \n",
      " 9022906116                    0.0                 0.0\n",
      "0 7336 1053 6                  0.0                 0.0\n",
      "0000000000                     0.0                 0.0\n",
      "00000000000                    0.0                 0.0\n",
      "0001055607                     0.0                 0.0\n"
     ]
    }
   ],
   "source": [
    "#Applies a sum to the topUsers after grouping it up by ISBN\n",
    "tempTopUsersRating = topUsersRating.groupby('ISBN').sum()[['similarityIndex','weightedRating']]\n",
    "tempTopUsersRating.columns = ['sum_similarityIndex','sum_weightedRating']\n",
    "print(tempTopUsersRating.head())"
   ]
  },
  {
   "cell_type": "code",
   "execution_count": 123,
   "metadata": {
    "colab": {
     "base_uri": "https://localhost:8080/"
    },
    "id": "yFLw-nzNNjua",
    "outputId": "5d7fb885-fe7d-4412-f72b-c2c98779aa08"
   },
   "outputs": [
    {
     "name": "stdout",
     "output_type": "stream",
     "text": [
      "               weighted average recommendation score           ISBN\n",
      "ISBN                                                               \n",
      " 9022906116                                      NaN     9022906116\n",
      "0 7336 1053 6                                    NaN  0 7336 1053 6\n",
      "0000000000                                       NaN     0000000000\n",
      "00000000000                                      NaN    00000000000\n",
      "0001055607                                       NaN     0001055607\n",
      "0001055666                                       NaN     0001055666\n",
      "0001837397                                       NaN     0001837397\n",
      "0001841572                                       NaN     0001841572\n",
      "0001848445                                       NaN     0001848445\n",
      "0001900277                                       NaN     0001900277\n"
     ]
    }
   ],
   "source": [
    "#Creates an empty dataframe\n",
    "recommendation_df = pd.DataFrame()\n",
    "\n",
    "#Now we take the weighted average\n",
    "recommendation_df['weighted average recommendation score'] = tempTopUsersRating['sum_weightedRating']/tempTopUsersRating['sum_similarityIndex']\n",
    "recommendation_df['ISBN'] = tempTopUsersRating.index\n",
    "print(recommendation_df.head(10))"
   ]
  },
  {
   "cell_type": "code",
   "execution_count": 124,
   "metadata": {
    "colab": {
     "base_uri": "https://localhost:8080/"
    },
    "id": "A1tNpC07Njuc",
    "outputId": "1026385c-9caf-4ebb-a65f-6d6f6f93997b"
   },
   "outputs": [
    {
     "name": "stdout",
     "output_type": "stream",
     "text": [
      "                weighted average recommendation score            ISBN\n",
      "ISBN                                                                 \n",
      "1881320189                                        7.0      1881320189\n",
      "1575663937                                        6.0      1575663937\n",
      "1567407781                                        6.0      1567407781\n",
      "074322678X                                        5.0      074322678X\n",
      "1552041778                                        5.0      1552041778\n",
      "...                                               ...             ...\n",
      "O9088446X                                         NaN       O9088446X\n",
      "X000000000                                        NaN      X000000000\n",
      "ZR903CX0003                                       NaN     ZR903CX0003\n",
      "\\0432534220\\\"\"                                    NaN  \\0432534220\\\"\"\n",
      "\\2842053052\\\"\"                                    NaN  \\2842053052\\\"\"\n",
      "\n",
      "[17409 rows x 2 columns]\n"
     ]
    }
   ],
   "source": [
    "recommendation_df = recommendation_df.sort_values(by='weighted average recommendation score', ascending=False)\n",
    "print(recommendation_df)\n"
   ]
  },
  {
   "cell_type": "code",
   "execution_count": 125,
   "metadata": {
    "colab": {
     "base_uri": "https://localhost:8080/"
    },
    "id": "5liD4u2aNjud",
    "outputId": "56f9bf44-752a-4353-81b2-cc359ab3f6d9"
   },
   "outputs": [
    {
     "name": "stdout",
     "output_type": "stream",
     "text": [
      "              ISBN                                         Book-Title  \\\n",
      "5       0399135782                             The Kitchen God's Wife   \n",
      "6       0425176428  What If?: The World's Foremost Military Histor...   \n",
      "7       0671870432                                    PLEADING GUILTY   \n",
      "8       0679425608  Under the Black Flag: The Romance and the Real...   \n",
      "9       074322678X            Where You'll Find Me: And Other Stories   \n",
      "...            ...                                                ...   \n",
      "257278  1567184960            Yule: A Celebration of Light and Warmth   \n",
      "258735  0306809214                           Springsteen: Point Blank   \n",
      "258736  0385262167  Dino: Living High in the Dirty Business of Dreams   \n",
      "258737  0385495625  Warriors of God: Richard the Lionheart and Sal...   \n",
      "259382  0143012282                              The Paperboy's Winter   \n",
      "\n",
      "                 Book-Author Year-Of-Publication                 Publisher  \\\n",
      "5                    Amy Tan                1991          Putnam Pub Group   \n",
      "6              Robert Cowley                2000  Berkley Publishing Group   \n",
      "7                Scott Turow                1993                Audioworks   \n",
      "8            David Cordingly                1996              Random House   \n",
      "9                Ann Beattie                2002                  Scribner   \n",
      "...                      ...                 ...                       ...   \n",
      "257278      Dorothy Morrison                2000    Llewellyn Publications   \n",
      "258735  Christopher Sandford                1999             Da Capo Press   \n",
      "258736          Nick Tosches                1992     Bantam Dell Pub Group   \n",
      "258737          James Reston                2002    Anchor Books/Doubleday   \n",
      "259382           Tim Bowling                2003      Penguin Books Canada   \n",
      "\n",
      "                                              Image-URL-S  \\\n",
      "5       http://images.amazon.com/images/P/0399135782.0...   \n",
      "6       http://images.amazon.com/images/P/0425176428.0...   \n",
      "7       http://images.amazon.com/images/P/0671870432.0...   \n",
      "8       http://images.amazon.com/images/P/0679425608.0...   \n",
      "9       http://images.amazon.com/images/P/074322678X.0...   \n",
      "...                                                   ...   \n",
      "257278  http://images.amazon.com/images/P/1567184960.0...   \n",
      "258735  http://images.amazon.com/images/P/0306809214.0...   \n",
      "258736  http://images.amazon.com/images/P/0385262167.0...   \n",
      "258737  http://images.amazon.com/images/P/0385495625.0...   \n",
      "259382  http://images.amazon.com/images/P/0143012282.0...   \n",
      "\n",
      "                                              Image-URL-M  \\\n",
      "5       http://images.amazon.com/images/P/0399135782.0...   \n",
      "6       http://images.amazon.com/images/P/0425176428.0...   \n",
      "7       http://images.amazon.com/images/P/0671870432.0...   \n",
      "8       http://images.amazon.com/images/P/0679425608.0...   \n",
      "9       http://images.amazon.com/images/P/074322678X.0...   \n",
      "...                                                   ...   \n",
      "257278  http://images.amazon.com/images/P/1567184960.0...   \n",
      "258735  http://images.amazon.com/images/P/0306809214.0...   \n",
      "258736  http://images.amazon.com/images/P/0385262167.0...   \n",
      "258737  http://images.amazon.com/images/P/0385495625.0...   \n",
      "259382  http://images.amazon.com/images/P/0143012282.0...   \n",
      "\n",
      "                                              Image-URL-L  \n",
      "5       http://images.amazon.com/images/P/0399135782.0...  \n",
      "6       http://images.amazon.com/images/P/0425176428.0...  \n",
      "7       http://images.amazon.com/images/P/0671870432.0...  \n",
      "8       http://images.amazon.com/images/P/0679425608.0...  \n",
      "9       http://images.amazon.com/images/P/074322678X.0...  \n",
      "...                                                   ...  \n",
      "257278  http://images.amazon.com/images/P/1567184960.0...  \n",
      "258735  http://images.amazon.com/images/P/0306809214.0...  \n",
      "258736  http://images.amazon.com/images/P/0385262167.0...  \n",
      "258737  http://images.amazon.com/images/P/0385495625.0...  \n",
      "259382  http://images.amazon.com/images/P/0143012282.0...  \n",
      "\n",
      "[14507 rows x 8 columns]\n"
     ]
    }
   ],
   "source": [
    "recommended_book=books_df.loc[books_df['ISBN'].isin(recommendation_df['ISBN'])]\n",
    "\n",
    "#we don't want to recommend the same book\n",
    "recommended_book=recommended_book.loc[~recommended_book.ISBN.isin(userSubset['ISBN'])]\n",
    "\n",
    "print(recommended_book)"
   ]
  },
  {
   "cell_type": "code",
   "execution_count": 125,
   "metadata": {
    "id": "1z7iFHhVNjud"
   },
   "outputs": [],
   "source": []
  }
 ],
 "metadata": {
  "colab": {
   "provenance": []
  },
  "kernelspec": {
   "display_name": "Python 3 (ipykernel)",
   "language": "python",
   "name": "python3"
  },
  "language_info": {
   "codemirror_mode": {
    "name": "ipython",
    "version": 3
   },
   "file_extension": ".py",
   "mimetype": "text/x-python",
   "name": "python",
   "nbconvert_exporter": "python",
   "pygments_lexer": "ipython3",
   "version": "3.9.4"
  }
 },
 "nbformat": 4,
 "nbformat_minor": 1
}
