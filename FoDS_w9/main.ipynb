{
 "cells": [
  {
   "cell_type": "code",
   "execution_count": 62,
   "id": "a89b5691",
   "metadata": {},
   "outputs": [],
   "source": [
    "#import libraries\n",
    "from matplotlib.axis import Axis\n",
    "import matplotlib.pyplot as plt\n",
    "import pandas as pd\n",
    "import numpy as np\n",
    "\n",
    "from sklearn.cluster import KMeans\n",
    "from sklearn import preprocessing\n",
    "from sklearn import metrics\n",
    "from scipy.spatial.distance import cdist\n"
   ]
  },
  {
   "cell_type": "code",
   "execution_count": 63,
   "id": "3d232e7f",
   "metadata": {},
   "outputs": [
    {
     "name": "stderr",
     "output_type": "stream",
     "text": [
      "ERROR: Could not find a version that satisfies the requirement skicit-learn (from versions: none)\n",
      "ERROR: No matching distribution found for skicit-learn\n"
     ]
    },
    {
     "name": "stdout",
     "output_type": "stream",
     "text": [
      "Requirement already satisfied: kneed in c:\\users\\harris\\appdata\\local\\programs\\python\\python39\\lib\\site-packages (0.8.1)\n",
      "Requirement already satisfied: scipy>=1.0.0 in c:\\users\\harris\\appdata\\local\\programs\\python\\python39\\lib\\site-packages (from kneed) (1.9.3)\n",
      "Requirement already satisfied: numpy>=1.14.2 in c:\\users\\harris\\appdata\\local\\programs\\python\\python39\\lib\\site-packages (from kneed) (1.23.3)\n"
     ]
    }
   ],
   "source": [
    "!pip install skicit-learn\n",
    "!pip install kneed"
   ]
  },
  {
   "cell_type": "code",
   "execution_count": 64,
   "id": "d7ed6036",
   "metadata": {},
   "outputs": [
    {
     "data": {
      "text/html": [
       "<div>\n",
       "<style scoped>\n",
       "    .dataframe tbody tr th:only-of-type {\n",
       "        vertical-align: middle;\n",
       "    }\n",
       "\n",
       "    .dataframe tbody tr th {\n",
       "        vertical-align: top;\n",
       "    }\n",
       "\n",
       "    .dataframe thead th {\n",
       "        text-align: right;\n",
       "    }\n",
       "</style>\n",
       "<table border=\"1\" class=\"dataframe\">\n",
       "  <thead>\n",
       "    <tr style=\"text-align: right;\">\n",
       "      <th></th>\n",
       "      <th>Unnamed: 0</th>\n",
       "      <th>season</th>\n",
       "      <th>episode_number</th>\n",
       "      <th>title</th>\n",
       "      <th>airdate</th>\n",
       "      <th>rating</th>\n",
       "      <th>total_votes</th>\n",
       "      <th>desc</th>\n",
       "    </tr>\n",
       "  </thead>\n",
       "  <tbody>\n",
       "    <tr>\n",
       "      <th>0</th>\n",
       "      <td>0</td>\n",
       "      <td>1</td>\n",
       "      <td>1</td>\n",
       "      <td>Ambush</td>\n",
       "      <td>3 Oct 2008</td>\n",
       "      <td>7.3</td>\n",
       "      <td>4,616</td>\n",
       "      <td>Yoda, along with three clone troopers, must fa...</td>\n",
       "    </tr>\n",
       "    <tr>\n",
       "      <th>1</th>\n",
       "      <td>1</td>\n",
       "      <td>1</td>\n",
       "      <td>2</td>\n",
       "      <td>Rising Malevolence</td>\n",
       "      <td>3 Oct 2008</td>\n",
       "      <td>7.3</td>\n",
       "      <td>4,091</td>\n",
       "      <td>General Grievous uses his latest weapon, the M...</td>\n",
       "    </tr>\n",
       "    <tr>\n",
       "      <th>2</th>\n",
       "      <td>2</td>\n",
       "      <td>1</td>\n",
       "      <td>3</td>\n",
       "      <td>Shadow of Malevolence</td>\n",
       "      <td>10 Oct 2008</td>\n",
       "      <td>7.3</td>\n",
       "      <td>3,825</td>\n",
       "      <td>The Malevolence has been revealed to the Repub...</td>\n",
       "    </tr>\n",
       "    <tr>\n",
       "      <th>3</th>\n",
       "      <td>3</td>\n",
       "      <td>1</td>\n",
       "      <td>4</td>\n",
       "      <td>Destroy Malevolence</td>\n",
       "      <td>17 Oct 2008</td>\n",
       "      <td>7.4</td>\n",
       "      <td>3,714</td>\n",
       "      <td>Padmé Amidala and C-3PO are taken hostage by G...</td>\n",
       "    </tr>\n",
       "    <tr>\n",
       "      <th>4</th>\n",
       "      <td>4</td>\n",
       "      <td>1</td>\n",
       "      <td>5</td>\n",
       "      <td>Rookies</td>\n",
       "      <td>24 Oct 2008</td>\n",
       "      <td>7.8</td>\n",
       "      <td>4,015</td>\n",
       "      <td>Alone on a distant outpost, Commander Cody and...</td>\n",
       "    </tr>\n",
       "    <tr>\n",
       "      <th>...</th>\n",
       "      <td>...</td>\n",
       "      <td>...</td>\n",
       "      <td>...</td>\n",
       "      <td>...</td>\n",
       "      <td>...</td>\n",
       "      <td>...</td>\n",
       "      <td>...</td>\n",
       "      <td>...</td>\n",
       "    </tr>\n",
       "    <tr>\n",
       "      <th>128</th>\n",
       "      <td>128</td>\n",
       "      <td>7</td>\n",
       "      <td>8</td>\n",
       "      <td>Together Again</td>\n",
       "      <td>10 Apr 2020</td>\n",
       "      <td>7.0</td>\n",
       "      <td>3,580</td>\n",
       "      <td>Ahsoka bargains for the sisters' freedom and m...</td>\n",
       "    </tr>\n",
       "    <tr>\n",
       "      <th>129</th>\n",
       "      <td>129</td>\n",
       "      <td>7</td>\n",
       "      <td>9</td>\n",
       "      <td>Old Friends Not Forgotten</td>\n",
       "      <td>17 Apr 2020</td>\n",
       "      <td>9.7</td>\n",
       "      <td>10,351</td>\n",
       "      <td>Ahsoka contacts Anakin and Obi-Wan, who must d...</td>\n",
       "    </tr>\n",
       "    <tr>\n",
       "      <th>130</th>\n",
       "      <td>130</td>\n",
       "      <td>7</td>\n",
       "      <td>10</td>\n",
       "      <td>The Phantom Apprentice</td>\n",
       "      <td>24 Apr 2020</td>\n",
       "      <td>9.9</td>\n",
       "      <td>13,717</td>\n",
       "      <td>Ahsoka leads Republic clones to confront Maul'...</td>\n",
       "    </tr>\n",
       "    <tr>\n",
       "      <th>131</th>\n",
       "      <td>131</td>\n",
       "      <td>7</td>\n",
       "      <td>11</td>\n",
       "      <td>Shattered</td>\n",
       "      <td>1 May 2020</td>\n",
       "      <td>9.8</td>\n",
       "      <td>12,378</td>\n",
       "      <td>After capturing Maul on Mandalore, Ahsoka's jo...</td>\n",
       "    </tr>\n",
       "    <tr>\n",
       "      <th>132</th>\n",
       "      <td>132</td>\n",
       "      <td>7</td>\n",
       "      <td>12</td>\n",
       "      <td>Victory and Death</td>\n",
       "      <td>4 May 2020</td>\n",
       "      <td>9.9</td>\n",
       "      <td>14,260</td>\n",
       "      <td>Ahsoka and Rex must use their wit and skills t...</td>\n",
       "    </tr>\n",
       "  </tbody>\n",
       "</table>\n",
       "<p>133 rows × 8 columns</p>\n",
       "</div>"
      ],
      "text/plain": [
       "     Unnamed: 0  season  episode_number                      title  \\\n",
       "0             0       1               1                     Ambush   \n",
       "1             1       1               2         Rising Malevolence   \n",
       "2             2       1               3      Shadow of Malevolence   \n",
       "3             3       1               4        Destroy Malevolence   \n",
       "4             4       1               5                    Rookies   \n",
       "..          ...     ...             ...                        ...   \n",
       "128         128       7               8             Together Again   \n",
       "129         129       7               9  Old Friends Not Forgotten   \n",
       "130         130       7              10     The Phantom Apprentice   \n",
       "131         131       7              11                  Shattered   \n",
       "132         132       7              12          Victory and Death   \n",
       "\n",
       "         airdate  rating total_votes  \\\n",
       "0     3 Oct 2008     7.3       4,616   \n",
       "1     3 Oct 2008     7.3       4,091   \n",
       "2    10 Oct 2008     7.3       3,825   \n",
       "3    17 Oct 2008     7.4       3,714   \n",
       "4    24 Oct 2008     7.8       4,015   \n",
       "..           ...     ...         ...   \n",
       "128  10 Apr 2020     7.0       3,580   \n",
       "129  17 Apr 2020     9.7      10,351   \n",
       "130  24 Apr 2020     9.9      13,717   \n",
       "131   1 May 2020     9.8      12,378   \n",
       "132   4 May 2020     9.9      14,260   \n",
       "\n",
       "                                                  desc  \n",
       "0    Yoda, along with three clone troopers, must fa...  \n",
       "1    General Grievous uses his latest weapon, the M...  \n",
       "2    The Malevolence has been revealed to the Repub...  \n",
       "3    Padmé Amidala and C-3PO are taken hostage by G...  \n",
       "4    Alone on a distant outpost, Commander Cody and...  \n",
       "..                                                 ...  \n",
       "128  Ahsoka bargains for the sisters' freedom and m...  \n",
       "129  Ahsoka contacts Anakin and Obi-Wan, who must d...  \n",
       "130  Ahsoka leads Republic clones to confront Maul'...  \n",
       "131  After capturing Maul on Mandalore, Ahsoka's jo...  \n",
       "132  Ahsoka and Rex must use their wit and skills t...  \n",
       "\n",
       "[133 rows x 8 columns]"
      ]
     },
     "execution_count": 64,
     "metadata": {},
     "output_type": "execute_result"
    }
   ],
   "source": [
    "#initialize dataset\n",
    "url = 'https://raw.githubusercontent.com/Gitroars/FoDS_LEC/main/FoDS_w4/swtcw.csv'\n",
    "df = pd.read_csv(url)\n",
    "df"
   ]
  },
  {
   "cell_type": "code",
   "execution_count": 65,
   "id": "52c42978",
   "metadata": {},
   "outputs": [],
   "source": [
    "#Change data type\n",
    "df['rating'] = df['rating'].astype(float)\n",
    "df.total_votes = df.total_votes.apply(lambda x: x.replace(',',''))"
   ]
  },
  {
   "cell_type": "code",
   "execution_count": 66,
   "id": "e8d8ffc4",
   "metadata": {},
   "outputs": [],
   "source": [
    "#Convert dataframe column to array\n",
    "x1 = np.asarray(df.rating)\n",
    "x2 = np.asarray(df.total_votes)\n",
    "           \n",
    "#Convert string to float \n",
    "x2 = x2.astype(float)\n",
    "\n",
    "X = np.array(list(zip(x1,x2))).reshape(len(x1),2)"
   ]
  },
  {
   "cell_type": "code",
   "execution_count": 67,
   "id": "c278d82f",
   "metadata": {
    "scrolled": true
   },
   "outputs": [
    {
     "name": "stdout",
     "output_type": "stream",
     "text": [
      "x1:[7.3 7.3 7.3 7.4 7.8 6.6 7.2 6.1 7.9 8.1 7.3 7.  7.3 7.4 7.6 7.7 6.7 7.\n",
      " 7.6 8.  7.6 7.9 7.9 8.  7.6 6.9 8.1 7.8 7.6 8.  7.9 8.1 7.6 8.  8.1 7.6\n",
      " 6.8 7.5 7.5 7.4 7.6 7.8 7.5 8.  7.8 8.5 7.  7.  6.7 6.9 7.5 6.2 7.1 7.5\n",
      " 7.2 8.6 8.7 8.9 8.9 8.6 8.9 8.1 8.  8.1 7.7 8.  7.1 7.  7.1 7.1 6.1 6.3\n",
      " 8.5 8.6 8.7 9.3 7.6 7.8 8.1 7.9 8.3 8.3 8.7 8.2 8.  8.2 8.2 9.  8.8 7.3\n",
      " 7.3 7.5 7.9 7.9 7.7 7.4 7.9 6.3 6.1 7.1 7.  8.7 9.1 9.7 8.1 9.  9.  9.6\n",
      " 8.1 8.1 8.3 8.8 7.  7.2 7.4 6.5 6.7 8.5 8.8 8.7 9.1 8.2 8.1 7.7 8.5 6.5\n",
      " 6.1 6.  7.  9.7 9.9 9.8 9.9]\n",
      "x2:[ 4616.  4091.  3825.  3714.  4015.  3456.  3420.  3508.  3531.  3624.\n",
      "  3220.  3143.  3144.  3119.  3209.  3230.  3008.  2925.  3041.  3152.\n",
      "  2983.  3105.  3011.  2962.  2865.  2747.  3146.  2828.  2789.  2883.\n",
      "  2715.  2860.  2783.  2931.  2929.  2729.  2533.  2859.  2647.  2614.\n",
      "  2643.  2660.  2585.  2650.  3201.  3152.  2692.  2424.  2512.  2473.\n",
      "  2515.  2450.  2489.  2544.  2437.  3214.  3256.  3306.  3650.  3347.\n",
      "  3547.  2652.  2564.  2586.  2486.  2535.  2464.  2375.  2346.  2304.\n",
      "  2334.  2315.  3210.  3162.  3161.  3926.  2360.  2417.  2445.  2446.\n",
      "  2597.  2545.  2842.  2484.  2541.  2608.  2762.  3327.  3193.  2337.\n",
      "  2290.  2266.  2369.  2449.  2313.  2253.  2355.  2288.  2351.  2307.\n",
      "  2200.  3153.  3372.  5435.  2729.  3412.  3350.  5139.  2600.  2515.\n",
      "  2552.  3035.  2113.  2111.  2105.  2091.  2067.  2558.  2900.  2802.\n",
      "  3216.  4213.  3748.  3582.  3834.  3880.  3789.  3818.  3580. 10351.\n",
      " 13717. 12378. 14260.]\n",
      "X:[[7.3000e+00 4.6160e+03]\n",
      " [7.3000e+00 4.0910e+03]\n",
      " [7.3000e+00 3.8250e+03]\n",
      " [7.4000e+00 3.7140e+03]\n",
      " [7.8000e+00 4.0150e+03]\n",
      " [6.6000e+00 3.4560e+03]\n",
      " [7.2000e+00 3.4200e+03]\n",
      " [6.1000e+00 3.5080e+03]\n",
      " [7.9000e+00 3.5310e+03]\n",
      " [8.1000e+00 3.6240e+03]\n",
      " [7.3000e+00 3.2200e+03]\n",
      " [7.0000e+00 3.1430e+03]\n",
      " [7.3000e+00 3.1440e+03]\n",
      " [7.4000e+00 3.1190e+03]\n",
      " [7.6000e+00 3.2090e+03]\n",
      " [7.7000e+00 3.2300e+03]\n",
      " [6.7000e+00 3.0080e+03]\n",
      " [7.0000e+00 2.9250e+03]\n",
      " [7.6000e+00 3.0410e+03]\n",
      " [8.0000e+00 3.1520e+03]\n",
      " [7.6000e+00 2.9830e+03]\n",
      " [7.9000e+00 3.1050e+03]\n",
      " [7.9000e+00 3.0110e+03]\n",
      " [8.0000e+00 2.9620e+03]\n",
      " [7.6000e+00 2.8650e+03]\n",
      " [6.9000e+00 2.7470e+03]\n",
      " [8.1000e+00 3.1460e+03]\n",
      " [7.8000e+00 2.8280e+03]\n",
      " [7.6000e+00 2.7890e+03]\n",
      " [8.0000e+00 2.8830e+03]\n",
      " [7.9000e+00 2.7150e+03]\n",
      " [8.1000e+00 2.8600e+03]\n",
      " [7.6000e+00 2.7830e+03]\n",
      " [8.0000e+00 2.9310e+03]\n",
      " [8.1000e+00 2.9290e+03]\n",
      " [7.6000e+00 2.7290e+03]\n",
      " [6.8000e+00 2.5330e+03]\n",
      " [7.5000e+00 2.8590e+03]\n",
      " [7.5000e+00 2.6470e+03]\n",
      " [7.4000e+00 2.6140e+03]\n",
      " [7.6000e+00 2.6430e+03]\n",
      " [7.8000e+00 2.6600e+03]\n",
      " [7.5000e+00 2.5850e+03]\n",
      " [8.0000e+00 2.6500e+03]\n",
      " [7.8000e+00 3.2010e+03]\n",
      " [8.5000e+00 3.1520e+03]\n",
      " [7.0000e+00 2.6920e+03]\n",
      " [7.0000e+00 2.4240e+03]\n",
      " [6.7000e+00 2.5120e+03]\n",
      " [6.9000e+00 2.4730e+03]\n",
      " [7.5000e+00 2.5150e+03]\n",
      " [6.2000e+00 2.4500e+03]\n",
      " [7.1000e+00 2.4890e+03]\n",
      " [7.5000e+00 2.5440e+03]\n",
      " [7.2000e+00 2.4370e+03]\n",
      " [8.6000e+00 3.2140e+03]\n",
      " [8.7000e+00 3.2560e+03]\n",
      " [8.9000e+00 3.3060e+03]\n",
      " [8.9000e+00 3.6500e+03]\n",
      " [8.6000e+00 3.3470e+03]\n",
      " [8.9000e+00 3.5470e+03]\n",
      " [8.1000e+00 2.6520e+03]\n",
      " [8.0000e+00 2.5640e+03]\n",
      " [8.1000e+00 2.5860e+03]\n",
      " [7.7000e+00 2.4860e+03]\n",
      " [8.0000e+00 2.5350e+03]\n",
      " [7.1000e+00 2.4640e+03]\n",
      " [7.0000e+00 2.3750e+03]\n",
      " [7.1000e+00 2.3460e+03]\n",
      " [7.1000e+00 2.3040e+03]\n",
      " [6.1000e+00 2.3340e+03]\n",
      " [6.3000e+00 2.3150e+03]\n",
      " [8.5000e+00 3.2100e+03]\n",
      " [8.6000e+00 3.1620e+03]\n",
      " [8.7000e+00 3.1610e+03]\n",
      " [9.3000e+00 3.9260e+03]\n",
      " [7.6000e+00 2.3600e+03]\n",
      " [7.8000e+00 2.4170e+03]\n",
      " [8.1000e+00 2.4450e+03]\n",
      " [7.9000e+00 2.4460e+03]\n",
      " [8.3000e+00 2.5970e+03]\n",
      " [8.3000e+00 2.5450e+03]\n",
      " [8.7000e+00 2.8420e+03]\n",
      " [8.2000e+00 2.4840e+03]\n",
      " [8.0000e+00 2.5410e+03]\n",
      " [8.2000e+00 2.6080e+03]\n",
      " [8.2000e+00 2.7620e+03]\n",
      " [9.0000e+00 3.3270e+03]\n",
      " [8.8000e+00 3.1930e+03]\n",
      " [7.3000e+00 2.3370e+03]\n",
      " [7.3000e+00 2.2900e+03]\n",
      " [7.5000e+00 2.2660e+03]\n",
      " [7.9000e+00 2.3690e+03]\n",
      " [7.9000e+00 2.4490e+03]\n",
      " [7.7000e+00 2.3130e+03]\n",
      " [7.4000e+00 2.2530e+03]\n",
      " [7.9000e+00 2.3550e+03]\n",
      " [6.3000e+00 2.2880e+03]\n",
      " [6.1000e+00 2.3510e+03]\n",
      " [7.1000e+00 2.3070e+03]\n",
      " [7.0000e+00 2.2000e+03]\n",
      " [8.7000e+00 3.1530e+03]\n",
      " [9.1000e+00 3.3720e+03]\n",
      " [9.7000e+00 5.4350e+03]\n",
      " [8.1000e+00 2.7290e+03]\n",
      " [9.0000e+00 3.4120e+03]\n",
      " [9.0000e+00 3.3500e+03]\n",
      " [9.6000e+00 5.1390e+03]\n",
      " [8.1000e+00 2.6000e+03]\n",
      " [8.1000e+00 2.5150e+03]\n",
      " [8.3000e+00 2.5520e+03]\n",
      " [8.8000e+00 3.0350e+03]\n",
      " [7.0000e+00 2.1130e+03]\n",
      " [7.2000e+00 2.1110e+03]\n",
      " [7.4000e+00 2.1050e+03]\n",
      " [6.5000e+00 2.0910e+03]\n",
      " [6.7000e+00 2.0670e+03]\n",
      " [8.5000e+00 2.5580e+03]\n",
      " [8.8000e+00 2.9000e+03]\n",
      " [8.7000e+00 2.8020e+03]\n",
      " [9.1000e+00 3.2160e+03]\n",
      " [8.2000e+00 4.2130e+03]\n",
      " [8.1000e+00 3.7480e+03]\n",
      " [7.7000e+00 3.5820e+03]\n",
      " [8.5000e+00 3.8340e+03]\n",
      " [6.5000e+00 3.8800e+03]\n",
      " [6.1000e+00 3.7890e+03]\n",
      " [6.0000e+00 3.8180e+03]\n",
      " [7.0000e+00 3.5800e+03]\n",
      " [9.7000e+00 1.0351e+04]\n",
      " [9.9000e+00 1.3717e+04]\n",
      " [9.8000e+00 1.2378e+04]\n",
      " [9.9000e+00 1.4260e+04]]\n"
     ]
    }
   ],
   "source": [
    "#See the data values\n",
    "print(f'x1:{x1}')\n",
    "print(f'x2:{x2}')\n",
    "print(f'X:{X}')"
   ]
  },
  {
   "cell_type": "code",
   "execution_count": 68,
   "id": "3f2d49fd",
   "metadata": {},
   "outputs": [
    {
     "data": {
      "image/png": "[encoded data removed]",
      "text/plain": [
       "<Figure size 640x480 with 1 Axes>"
      ]
     },
     "metadata": {},
     "output_type": "display_data"
    }
   ],
   "source": [
    "#Visualize the data\n",
    "plt.plot()\n",
    "plt.scatter(x1,x2)\n",
    "plt.show()"
   ]
  },
  {
   "cell_type": "code",
   "execution_count": 69,
   "id": "62d82c63",
   "metadata": {},
   "outputs": [
    {
     "name": "stdout",
     "output_type": "stream",
     "text": [
      "[423516589.42947364, 55055923.976957366, 25700654.99447531, 17601543.80192177, 15300914.801591503, 11882366.943099685, 11047701.273626022, 10508027.793274892, 10334805.8385895, 10127458.11171842]\n"
     ]
    }
   ],
   "source": [
    "# calculate distortion for a range of number of cluster\n",
    "distortions = []\n",
    "for i in range(1, 11):\n",
    "    km = KMeans(\n",
    "        n_clusters=i, init='random',\n",
    "        n_init=10, max_iter=300,\n",
    "        tol=1e-04, random_state=0\n",
    "    )\n",
    "    km.fit(X)\n",
    "    distortions.append(km.inertia_)\n",
    "\n",
    "print(distortions)"
   ]
  },
  {
   "cell_type": "code",
   "execution_count": 70,
   "id": "6f249b93",
   "metadata": {},
   "outputs": [
    {
     "data": {
      "text/plain": [
       "2"
      ]
     },
     "execution_count": 70,
     "metadata": {},
     "output_type": "execute_result"
    }
   ],
   "source": [
    "#finding the elbow using kneed locator\n",
    "\n",
    "from kneed import KneeLocator\n",
    "kl = KneeLocator(range(1, 11), distortions, curve=\"convex\", direction=\"decreasing\")\n",
    "kl.elbow"
   ]
  },
  {
   "cell_type": "code",
   "execution_count": 71,
   "id": "4778fcf2",
   "metadata": {},
   "outputs": [
    {
     "data": {
      "image/png": "[encoded data removed]",
      "text/plain": [
       "<Figure size 640x480 with 1 Axes>"
      ]
     },
     "metadata": {},
     "output_type": "display_data"
    }
   ],
   "source": [
    "# plot\n",
    "plt.plot(range(1, 11), distortions, marker='o')\n",
    "plt.xlabel('Number of clusters')\n",
    "plt.ylabel('Distortion')\n",
    "plt.title('Elbow Method for Optimal k')\n",
    "plt.show()"
   ]
  },
  {
   "cell_type": "code",
   "execution_count": 72,
   "id": "76972278",
   "metadata": {},
   "outputs": [
    {
     "name": "stdout",
     "output_type": "stream",
     "text": [
      "2\n"
     ]
    }
   ],
   "source": [
    "#Get the optimal number of clusters\n",
    "print(kl.elbow)\n"
   ]
  },
  {
   "cell_type": "code",
   "execution_count": 73,
   "id": "668a840d",
   "metadata": {
    "scrolled": true
   },
   "outputs": [
    {
     "data": {
      "image/png": "[encoded data removed]",
      "text/plain": [
       "<Figure size 640x480 with 1 Axes>"
      ]
     },
     "metadata": {},
     "output_type": "display_data"
    }
   ],
   "source": [
    "# train K-Means clustering\n",
    "km = KMeans(\n",
    "    n_clusters=2,init='random',\n",
    "    n_init=10, max_iter=300, \n",
    "    tol=1e-04, random_state=0\n",
    ")\n",
    "y_km = km.fit_predict(X)\n",
    "\n",
    "# plot the clusters \n",
    "plt.scatter(\n",
    "    X[y_km == 0, 0], X[y_km == 0, 1],\n",
    "    s=50, c='C0',\n",
    "    marker='s', edgecolor='black',\n",
    "    label='cluster 1'\n",
    ")\n",
    "\n",
    "plt.scatter(\n",
    "    X[y_km == 1, 0], X[y_km == 1, 1],\n",
    "    s=50, c='C1',\n",
    "    marker='s', edgecolor='black',\n",
    "    label='cluster 2'\n",
    ")\n",
    "\n",
    "# plot the centroids\n",
    "plt.scatter(\n",
    "    km.cluster_centers_[:, 0], km.cluster_centers_[:, 1],\n",
    "    s=150,marker='*',\n",
    "    c='red', edgecolor='black',\n",
    "    label='centroids'\n",
    ")\n",
    "\n",
    "\n",
    "plt.legend()\n",
    "plt.show()\n",
    "\n"
   ]
  },
  {
   "cell_type": "code",
   "execution_count": null,
   "id": "6a084be4",
   "metadata": {},
   "outputs": [],
   "source": []
  }
 ],
 "metadata": {
  "kernelspec": {
   "display_name": "Python 3 (ipykernel)",
   "language": "python",
   "name": "python3"
  },
  "language_info": {
   "codemirror_mode": {
    "name": "ipython",
    "version": 3
   },
   "file_extension": ".py",
   "mimetype": "text/x-python",
   "name": "python",
   "nbconvert_exporter": "python",
   "pygments_lexer": "ipython3",
   "version": "3.9.4"
  }
 },
 "nbformat": 4,
 "nbformat_minor": 5
}
